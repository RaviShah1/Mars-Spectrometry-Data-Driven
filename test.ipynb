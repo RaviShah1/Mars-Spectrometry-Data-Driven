{
 "cells": [
  {
   "cell_type": "code",
   "execution_count": 1,
   "metadata": {},
   "outputs": [],
   "source": [
    "import pandas as pd\n",
    "import numpy as np\n",
    "import os\n",
    "import sys\n",
    "import glob\n",
    "\n",
    "from cross_validation import evaluate_cv"
   ]
  },
  {
   "cell_type": "code",
   "execution_count": 2,
   "metadata": {},
   "outputs": [],
   "source": [
    "!python generate_dataset.py -f max -i 100 -s data/savgol2"
   ]
  },
  {
   "cell_type": "code",
   "execution_count": 2,
   "metadata": {},
   "outputs": [],
   "source": [
    "!python train_pipeline.py -m lgbm -f max100 -s saved_models/lgbm_savgol_max100.pkl"
   ]
  },
  {
   "cell_type": "code",
   "execution_count": 3,
   "metadata": {},
   "outputs": [],
   "source": [
    "!python inference_pipeline.py -m saved_models/lgbm_savgol_max100.pkl -f max100 -s submissions/lgbm_savgol_max100.csv"
   ]
  },
  {
   "cell_type": "code",
   "execution_count": 3,
   "metadata": {},
   "outputs": [
    {
     "name": "stdout",
     "output_type": "stream",
     "text": [
      "Log Loss\n",
      "{'basalt': 0.14804667798365295, 'carbonate': 0.09670767517352306, 'chloride': 0.1699825500378754, 'iron_oxide': 0.2041310487354328, 'oxalate': 0.016453511301745098, 'oxychlorine': 0.14389623230438875, 'phyllosilicate': 0.22903140333240754, 'silicate': 0.1814503053172635, 'sulfate': 0.16658665343743448, 'sulfide': 0.06896693258515033}\n",
      "Average Log Loss: 0.1425252990208874\n"
     ]
    }
   ],
   "source": [
    "train_df = pd.read_csv(\"data/savgol2/max100_train.csv\", header=[0], low_memory=False)\n",
    "train_df.columns = train_df.iloc[0]\n",
    "train_df = train_df.drop([0,1]).set_index('temp_bin', drop=True)\n",
    "\n",
    "evaluate_cv('lgbm', train_df)"
   ]
  },
  {
   "cell_type": "code",
   "execution_count": null,
   "metadata": {},
   "outputs": [],
   "source": [
    "0.23890871667751576\n",
    "0.19940775504629724 - reg alpha 5\n",
    "0.18222007826131761 - reg alpha 3\n",
    "0.1768228884184077 - reg alpha 2\n",
    "0.17520570711159594 - reg alpha 1\n",
    "0.1728687812548745 - reg alpha 1, cosample .4\n",
    "0.14564164696071238 - stage 2 reg alpha 1, cosample .4\n",
    "0.14056376073184879 - stage 2 reg alpha 1, comsample .4, savgol 21-4"
   ]
  },
  {
   "cell_type": "code",
   "execution_count": null,
   "metadata": {},
   "outputs": [],
   "source": []
  }
 ],
 "metadata": {
  "interpreter": {
   "hash": "78484cb7ed7f3758bf30f3acfc02331463adaae3b79806389ca1df3041470b56"
  },
  "kernelspec": {
   "display_name": "Python 3.8.5 ('base')",
   "language": "python",
   "name": "python3"
  },
  "language_info": {
   "codemirror_mode": {
    "name": "ipython",
    "version": 3
   },
   "file_extension": ".py",
   "mimetype": "text/x-python",
   "name": "python",
   "nbconvert_exporter": "python",
   "pygments_lexer": "ipython3",
   "version": "3.8.5"
  },
  "orig_nbformat": 4
 },
 "nbformat": 4,
 "nbformat_minor": 2
}
