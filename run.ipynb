{
 "cells": [
  {
   "cell_type": "code",
   "execution_count": 1,
   "metadata": {},
   "outputs": [],
   "source": [
    "import pandas as pd\n",
    "import numpy as np\n",
    "import os\n",
    "import sys\n",
    "import glob\n",
    "\n",
    "from cross_validation import evaluate_cv\n",
    "\n",
    "import warnings\n",
    "warnings.filterwarnings('ignore')"
   ]
  },
  {
   "cell_type": "code",
   "execution_count": 2,
   "metadata": {},
   "outputs": [],
   "source": [
    "!python generate_dataset.py -f max -i 100 -s data/savgol2"
   ]
  },
  {
   "cell_type": "code",
   "execution_count": null,
   "metadata": {},
   "outputs": [],
   "source": [
    "!python train_pipeline.py -m lgbm -f max100 -s saved_models/lgbm_savgol_max100.pkl"
   ]
  },
  {
   "cell_type": "code",
   "execution_count": null,
   "metadata": {},
   "outputs": [],
   "source": [
    "!python inference_pipeline.py -m saved_models/lgbm_savgol_max100.pkl -f max100 -s submissions/lgbm_savgol_max100.csv"
   ]
  },
  {
   "cell_type": "code",
   "execution_count": 3,
   "metadata": {},
   "outputs": [
    {
     "name": "stdout",
     "output_type": "stream",
     "text": [
      "Log Loss\n",
      "{'basalt': 0.2294280364987828, 'carbonate': 0.1355075232464082, 'chloride': 0.21210198438364344, 'iron_oxide': 0.26139431611572517, 'oxalate': 0.012685945488921213, 'oxychlorine': 0.18452095963900178, 'phyllosilicate': 0.2958006409055486, 'silicate': 0.25698927661281223, 'sulfate': 0.2143939845159232, 'sulfide': 0.0946358625627234}\n",
      "Average Log Loss: 0.18974585299694902\n"
     ]
    }
   ],
   "source": [
    "train_df = pd.read_csv(\"data/savgol2/max100_train.csv\", header=[0], low_memory=False)\n",
    "train_df.columns = train_df.iloc[0]\n",
    "train_df = train_df.drop([0,1]).set_index('temp_bin', drop=True)\n",
    "\n",
    "evaluate_cv('lgbm', train_df)"
   ]
  },
  {
   "cell_type": "code",
   "execution_count": null,
   "metadata": {},
   "outputs": [],
   "source": []
  }
 ],
 "metadata": {
  "interpreter": {
   "hash": "29bfcd109096388b610faf2a780129d27f5eafe38bc170ba595b76c944eb8065"
  },
  "kernelspec": {
   "display_name": "Python 3.8.12 ('MarSpec')",
   "language": "python",
   "name": "python3"
  },
  "language_info": {
   "codemirror_mode": {
    "name": "ipython",
    "version": 3
   },
   "file_extension": ".py",
   "mimetype": "text/x-python",
   "name": "python",
   "nbconvert_exporter": "python",
   "pygments_lexer": "ipython3",
   "version": "3.8.12"
  },
  "orig_nbformat": 4
 },
 "nbformat": 4,
 "nbformat_minor": 2
}
